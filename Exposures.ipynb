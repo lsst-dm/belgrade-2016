{
 "cells": [
  {
   "cell_type": "code",
   "execution_count": null,
   "metadata": {
    "collapsed": false
   },
   "outputs": [],
   "source": [
    "import numpy as np\n",
    "\n",
    "%matplotlib inline\n",
    "import matplotlib.pyplot as plt"
   ]
  },
  {
   "cell_type": "code",
   "execution_count": null,
   "metadata": {
    "collapsed": true
   },
   "outputs": [],
   "source": [
    "import lsst.afw.display as afwDisplay\n",
    "import lsst.afw.image as afwImage\n",
    "\n",
    "import lsst.afw.coord as afwCoord\n",
    "import lsst.afw.geom as afwGeom"
   ]
  },
  {
   "cell_type": "markdown",
   "metadata": {},
   "source": [
    "Define some filters.  This would usually be done for us via the \"obs package\" (in this case, \n",
    "the \"subaru\" package that knows about SuprimeCam, HSC, and PFS), but in this case we'll do it by hand"
   ]
  },
  {
   "cell_type": "code",
   "execution_count": null,
   "metadata": {
    "collapsed": false
   },
   "outputs": [],
   "source": [
    "import lsst.afw.image.utils as afwImageUtils\n",
    "\n",
    "afwImageUtils.resetFilters()\n",
    "afwImageUtils.defineFilter(name='g', lambdaEff=477, alias=['W-S-G+', 'HSC-G'])\n",
    "afwImageUtils.defineFilter(name='r', lambdaEff=623, alias=['W-S-R+', 'HSC-R'])\n",
    "afwImageUtils.defineFilter(name='i', lambdaEff=775, alias=['W-S-I+', 'HSC-I'])\n",
    "afwImageUtils.defineFilter(name='z', lambdaEff=925, alias=['W-S-Z+', 'HSC-Z'])\n",
    "afwImageUtils.defineFilter(name='y', lambdaEff=990, alias=['W-S-ZR', 'HSC-Y'])\n",
    "\n",
    "del afwImageUtils"
   ]
  },
  {
   "cell_type": "markdown",
   "metadata": {},
   "source": [
    "Read the data image the hard way, piece by piece.  We'll see an easier way in a moment"
   ]
  },
  {
   "cell_type": "code",
   "execution_count": null,
   "metadata": {
    "collapsed": false
   },
   "outputs": [],
   "source": [
    "fileName = \"example1.fits\"\n",
    "\n",
    "md = afwImage.readMetadata(fileName)\n",
    "wcs = afwImage.makeWcs(md, True)\n",
    "filter = afwImage.Filter(md)\n",
    "calib = afwImage.Calib(md)\n",
    "\n",
    "im = afwImage.ImageF(fileName)\n",
    "mask = afwImage.MaskU(fileName, 3)\n",
    "variance = afwImage.ImageF(fileName, 4)"
   ]
  },
  {
   "cell_type": "markdown",
   "metadata": {},
   "source": [
    "Display the images.  In this case we'll use ds9, but there are other backends available (currently IPAC's firefly, but e.g. ginga would be possible)"
   ]
  },
  {
   "cell_type": "code",
   "execution_count": null,
   "metadata": {
    "collapsed": false
   },
   "outputs": [],
   "source": [
    "disp = afwDisplay.Display(frame=1)\n",
    "\n",
    "disp.mtv(im, title=\"image\")\n",
    "afwDisplay.Display(frame=2).mtv(variance, title=\"variance\")\n",
    "afwDisplay.Display(frame=3).mtv(mask, title=\"mask\")"
   ]
  },
  {
   "cell_type": "markdown",
   "metadata": {},
   "source": [
    "Assemble all that data into an \"Exposure\" -- it has other components too, such as a Psf and knowledge about zeropoints"
   ]
  },
  {
   "cell_type": "code",
   "execution_count": null,
   "metadata": {
    "collapsed": false
   },
   "outputs": [],
   "source": [
    "mi = afwImage.makeMaskedImage(im, mask, variance)\n",
    "exp = afwImage.makeExposure(mi)\n",
    "exp.setCalib(calib)\n",
    "exp.setFilter(filter)\n",
    "exp.setWcs(wcs)"
   ]
  },
  {
   "cell_type": "markdown",
   "metadata": {},
   "source": [
    "Yes, there is an easier way"
   ]
  },
  {
   "cell_type": "code",
   "execution_count": null,
   "metadata": {
    "collapsed": false
   },
   "outputs": [],
   "source": [
    "exp = afwImage.ExposureF(fileName)\n",
    "print \"%s; lambda_{eff} = %.0f nm\" % (exp.getFilter().getName(), filter.getFilterProperty().getLambdaEff())\n",
    "\n",
    "disp.mtv(exp, title=\"Exposure\")\n",
    "disp.setMaskTransparency(50)"
   ]
  },
  {
   "cell_type": "code",
   "execution_count": null,
   "metadata": {
    "collapsed": false
   },
   "outputs": [],
   "source": [
    "if True:\n",
    "    disp.pan(1670, 265)\n",
    "else:\n",
    "    rd = afwCoord.Coord(320.6631635*afwGeom.degrees, -0.3861881*afwGeom.degrees)\n",
    "    disp.pan(*exp.getWcs().skyToPixel(rd))\n",
    "    \n",
    "disp.zoom(2)"
   ]
  }
 ],
 "metadata": {
  "kernelspec": {
   "display_name": "Python 2",
   "language": "python",
   "name": "python2"
  },
  "language_info": {
   "codemirror_mode": {
    "name": "ipython",
    "version": 2
   },
   "file_extension": ".py",
   "mimetype": "text/x-python",
   "name": "python",
   "nbconvert_exporter": "python",
   "pygments_lexer": "ipython2",
   "version": "2.7.11"
  }
 },
 "nbformat": 4,
 "nbformat_minor": 0
}
