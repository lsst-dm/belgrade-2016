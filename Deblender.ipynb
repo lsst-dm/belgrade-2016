{
 "cells": [
  {
   "cell_type": "markdown",
   "metadata": {},
   "source": [
    "## Look at the outouts from the deblender"
   ]
  },
  {
   "cell_type": "code",
   "execution_count": null,
   "metadata": {
    "collapsed": true
   },
   "outputs": [],
   "source": [
    "import lsst.afw.display as afwDisplay\n",
    "import lsst.afw.image as afwImage\n",
    "import lsst.afw.table as afwTable\n",
    "\n",
    "import deblender"
   ]
  },
  {
   "cell_type": "markdown",
   "metadata": {},
   "source": [
    "#### Setup the displays (by default an interface to ds9)\n",
    "(the _callbacks stuff is working around a bug)"
   ]
  },
  {
   "cell_type": "code",
   "execution_count": null,
   "metadata": {
    "collapsed": true
   },
   "outputs": [],
   "source": [
    "disp  = afwDisplay.Display(1);  disp.callbacks  = disp._callbacks\n",
    "disp2 = afwDisplay.Display(2);  disp2.callbacks = disp2._callbacks"
   ]
  },
  {
   "cell_type": "markdown",
   "metadata": {},
   "source": [
    "#### Read the data"
   ]
  },
  {
   "cell_type": "code",
   "execution_count": null,
   "metadata": {
    "collapsed": false
   },
   "outputs": [],
   "source": [
    "exposure = afwImage.ExposureF(\"example1-out.fits\")\n",
    "\n",
    "sources = afwTable.SourceCatalog.readFits(\"outputTable.fits\")\n",
    "families = deblender.Families(sources, None, nChildMin=0)"
   ]
  },
  {
   "cell_type": "markdown",
   "metadata": {},
   "source": [
    "#### Display the data, marking parents with x"
   ]
  },
  {
   "cell_type": "code",
   "execution_count": null,
   "metadata": {
    "collapsed": false
   },
   "outputs": [],
   "source": [
    "if True:\n",
    "    disp.mtv(exposure)\n",
    "else:\n",
    "    disp.erase()\n",
    "\n",
    "with disp.Buffering():\n",
    "    for s in sources:\n",
    "        disp.dot('+' if s['deblend_nChild'] > 0 else 'x',\n",
    "                 *s.getCentroid(), ctype=afwDisplay.RED)"
   ]
  },
  {
   "cell_type": "markdown",
   "metadata": {},
   "source": [
    "#### And look at some of the families"
   ]
  },
  {
   "cell_type": "code",
   "execution_count": null,
   "metadata": {
    "collapsed": false
   },
   "outputs": [],
   "source": [
    "x, y = (1692, 281) if False else \\\n",
    "       (697, 1391)\n",
    "\n",
    "fam = families.find((x, y), matchRadius=20)\n",
    "if fam:\n",
    "    deblender.plotDeblendFamily(exposure, *fam, background=-0.1, display=disp2)"
   ]
  },
  {
   "cell_type": "markdown",
   "metadata": {},
   "source": [
    "#### Use ds9's cursor to choose our families\n",
    "\n",
    "Use d on an object in Display display0 to show the children in display; q to quit the ds9 interactive loop"
   ]
  },
  {
   "cell_type": "code",
   "execution_count": null,
   "metadata": {
    "collapsed": false,
    "scrolled": true
   },
   "outputs": [],
   "source": [
    "if False:\n",
    "    deblender.showBlend(exposure, families, display0=disp, display=disp2)"
   ]
  }
 ],
 "metadata": {
  "kernelspec": {
   "display_name": "Python 2",
   "language": "python",
   "name": "python2"
  },
  "language_info": {
   "codemirror_mode": {
    "name": "ipython",
    "version": 2
   },
   "file_extension": ".py",
   "mimetype": "text/x-python",
   "name": "python",
   "nbconvert_exporter": "python",
   "pygments_lexer": "ipython2",
   "version": "2.7.11"
  }
 },
 "nbformat": 4,
 "nbformat_minor": 0
}
