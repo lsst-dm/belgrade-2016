{
 "cells": [
  {
   "cell_type": "code",
   "execution_count": null,
   "metadata": {
    "collapsed": false
   },
   "outputs": [],
   "source": [
    "import numpy as np\n",
    "\n",
    "%matplotlib inline\n",
    "import matplotlib.pyplot as plt"
   ]
  },
  {
   "cell_type": "code",
   "execution_count": null,
   "metadata": {
    "collapsed": true
   },
   "outputs": [],
   "source": [
    "from lsst.daf.butlerUtils import ExposureIdInfo\n",
    "\n",
    "import lsst.afw.display            as afwDisplay\n",
    "import lsst.afw.image              as afwImage\n",
    "import lsst.afw.geom               as afwGeom\n",
    "import lsst.afw.table              as afwTable\n",
    "\n",
    "import lsst.meas.algorithms        as measAlg"
   ]
  },
  {
   "cell_type": "markdown",
   "metadata": {},
   "source": [
    "Load the high-level \"tasks\" that process the pixels"
   ]
  },
  {
   "cell_type": "code",
   "execution_count": null,
   "metadata": {
    "collapsed": true
   },
   "outputs": [],
   "source": [
    "from lsst.pipe.tasks.characterizeImage import CharacterizeImageTask\n",
    "from lsst.pipe.tasks.calibrate         import CalibrateTask\n",
    "from lsst.meas.algorithms.detection    import SourceDetectionTask\n",
    "from lsst.meas.deblender               import SourceDeblendTask\n",
    "from lsst.meas.base                    import SingleFrameMeasurementTask"
   ]
  },
  {
   "cell_type": "markdown",
   "metadata": {},
   "source": [
    "The next import will fail until you've explicitly built and setup the Kron extension\n",
    "\n",
    "    git clone git@github.com:lsst/meas_extensions_photometryKron\n",
    "    setup -r . -j\n",
    "    scons -Q opt=3 -j 4\n",
    "    \n",
    "and then restarted your jupyter notebook"
   ]
  },
  {
   "cell_type": "code",
   "execution_count": null,
   "metadata": {
    "collapsed": false
   },
   "outputs": [],
   "source": [
    "import lsst.meas.extensions.photometryKron"
   ]
  },
  {
   "cell_type": "markdown",
   "metadata": {},
   "source": [
    "Setup the displays (by default an interface to ds9)"
   ]
  },
  {
   "cell_type": "code",
   "execution_count": null,
   "metadata": {
    "collapsed": true
   },
   "outputs": [],
   "source": [
    "disp  = afwDisplay.Display(1);  disp.callbacks  = disp._callbacks\n",
    "disp2 = afwDisplay.Display(2);  disp2.callbacks = disp2._callbacks"
   ]
  },
  {
   "cell_type": "markdown",
   "metadata": {},
   "source": [
    "## Create the tasks"
   ]
  },
  {
   "cell_type": "code",
   "execution_count": null,
   "metadata": {
    "collapsed": false
   },
   "outputs": [],
   "source": [
    "schema = afwTable.SourceTable.makeMinimalSchema()\n",
    "algMetadata = dafBase.PropertyList()\n",
    "\n",
    "config = CharacterizeImageTask.ConfigClass()\n",
    "config.psfIterations = 1\n",
    "charImageTask =         CharacterizeImageTask(None, config=config)\n",
    "\n",
    "sourceDetectionTask =   SourceDetectionTask(schema=schema)\n",
    "\n",
    "sourceDeblendTask =     SourceDeblendTask(schema=schema)\n",
    "\n",
    "config = SingleFrameMeasurementTask.ConfigClass()\n",
    "config.doApplyApCorr = 'yes'\n",
    "config.slots.apFlux = 'base_CircularApertureFlux_12_0'\n",
    "config.plugins.names.add(\"ext_photometryKron_KronFlux\")\n",
    "sourceMeasurementTask = SingleFrameMeasurementTask(schema=schema, config=config,\n",
    "                                                   algMetadata=algMetadata)"
   ]
  },
  {
   "cell_type": "markdown",
   "metadata": {},
   "source": [
    "It is a bug that I need to add this field to the metadata"
   ]
  },
  {
   "cell_type": "code",
   "execution_count": null,
   "metadata": {
    "collapsed": false
   },
   "outputs": [],
   "source": [
    "algMetadata.set(\"ext_photometryKron_KronFlux_nRadiusForFlux\",\n",
    "                config.plugins[\"ext_photometryKron_KronFlux\"].nRadiusForFlux)"
   ]
  },
  {
   "cell_type": "markdown",
   "metadata": {},
   "source": [
    "## Time to process some data"
   ]
  },
  {
   "cell_type": "markdown",
   "metadata": {},
   "source": [
    "#### Read the input data"
   ]
  },
  {
   "cell_type": "code",
   "execution_count": null,
   "metadata": {
    "collapsed": true
   },
   "outputs": [],
   "source": [
    "fileName = \"example1.fits\"\n",
    "exposureIdInfo = ExposureIdInfo(0, 5)\n",
    "\n",
    "exposure = afwImage.ExposureF(fileName)"
   ]
  },
  {
   "cell_type": "markdown",
   "metadata": {},
   "source": [
    "#### Create the output table"
   ]
  },
  {
   "cell_type": "code",
   "execution_count": null,
   "metadata": {
    "collapsed": true
   },
   "outputs": [],
   "source": [
    "tab = afwTable.SourceTable.make(schema)"
   ]
  },
  {
   "cell_type": "markdown",
   "metadata": {},
   "source": [
    "#### Process the pixels\n",
    "\n",
    "##### Characterise the exposure (e.g. estimate the PSF)"
   ]
  },
  {
   "cell_type": "code",
   "execution_count": null,
   "metadata": {
    "collapsed": false
   },
   "outputs": [],
   "source": [
    "result = charImageTask.characterize(exposure, exposureIdInfo)\n",
    "\n",
    "psfCellSet = result.psfCellSet     # we'll look at this data structure later"
   ]
  },
  {
   "cell_type": "markdown",
   "metadata": {},
   "source": [
    "##### Detect objects (`sources')"
   ]
  },
  {
   "cell_type": "code",
   "execution_count": null,
   "metadata": {
    "collapsed": false
   },
   "outputs": [],
   "source": [
    "result = sourceDetectionTask.run(tab, exposure)\n",
    "sources = result.sources"
   ]
  },
  {
   "cell_type": "markdown",
   "metadata": {},
   "source": [
    "##### Deblend overlapping objects"
   ]
  },
  {
   "cell_type": "code",
   "execution_count": null,
   "metadata": {
    "collapsed": false
   },
   "outputs": [],
   "source": [
    "sourceDeblendTask.run(exposure, sources, exposure.getPsf())"
   ]
  },
  {
   "cell_type": "markdown",
   "metadata": {},
   "source": [
    "##### Measure the objects' properties"
   ]
  },
  {
   "cell_type": "code",
   "execution_count": null,
   "metadata": {
    "collapsed": false
   },
   "outputs": [],
   "source": [
    "sourceMeasurementTask.run(exposure, sources)"
   ]
  },
  {
   "cell_type": "markdown",
   "metadata": {},
   "source": [
    "#### Write the results to a FITS file (if desired)"
   ]
  },
  {
   "cell_type": "code",
   "execution_count": null,
   "metadata": {
    "collapsed": true
   },
   "outputs": [],
   "source": [
    "sources.writeFits(\"outputTable.fits\")\n",
    "exposure.writeFits(\"example1-out.fits\")"
   ]
  },
  {
   "cell_type": "markdown",
   "metadata": {},
   "source": [
    "### OK, we've finished the image processing."
   ]
  },
  {
   "cell_type": "code",
   "execution_count": null,
   "metadata": {
    "collapsed": true
   },
   "outputs": [],
   "source": [
    "import lsst.afw.display.utils as afwDisplayUtils\n",
    "import lsst.afw.image.utils as afwImageUtils"
   ]
  },
  {
   "cell_type": "markdown",
   "metadata": {},
   "source": [
    "Define a boolean array that tells us which objects are 'good'; in this case:\n",
    " - No saturated pixels near their centres\n",
    " - terminal objects that haven't been further deblended"
   ]
  },
  {
   "cell_type": "code",
   "execution_count": null,
   "metadata": {
    "collapsed": true
   },
   "outputs": [],
   "source": [
    "sources = sources.copy(True)\n",
    "good = np.logical_and.reduce([sources.get('base_PixelFlags_flag_saturatedCenter') == 0,\n",
    "                              sources.get(\"deblend_nChild\") == 0,\n",
    "                              ])"
   ]
  },
  {
   "cell_type": "markdown",
   "metadata": {},
   "source": [
    "#### Look at how well the aperture and Kron photometry agrees with the PSF measurements"
   ]
  },
  {
   "cell_type": "code",
   "execution_count": null,
   "metadata": {
    "collapsed": false
   },
   "outputs": [],
   "source": [
    "with afwImageUtils.CalibNoThrow():\n",
    "    apMag = exposure.getCalib().getMagnitude(sources.getApFlux())\n",
    "    kronMag = exposure.getCalib().getMagnitude(sources[\"ext_photometryKron_KronFlux_flux\"])\n",
    "    psfMag = exposure.getCalib().getMagnitude(sources.getPsfFlux())\n",
    "\n",
    "for mag, name in [\n",
    "                    (apMag, \"aperture\"),\n",
    "                    (kronMag, \"Kron\")\n",
    "                 ]:\n",
    "    plt.plot(apMag[good], (psfMag - mag)[good], 'o', alpha=0.5, label=name)\n",
    "\n",
    "plt.legend(loc='best')\n",
    "plt.axhline(0.0, ls=':', color='black')\n",
    "plt.xlim(14, 24.5)\n",
    "plt.ylim(-0.2, 0.8)\n",
    "\n",
    "plt.xlabel(\"apMag\")\n",
    "plt.ylabel(\"psfMag - mag\")\n",
    "\n",
    "plt.show()"
   ]
  },
  {
   "cell_type": "code",
   "execution_count": null,
   "metadata": {
    "collapsed": false
   },
   "outputs": [],
   "source": [
    "if True:\n",
    "    disp2.mtv(exposure)\n",
    "else:\n",
    "    disp2.erase()"
   ]
  },
  {
   "cell_type": "code",
   "execution_count": null,
   "metadata": {
    "collapsed": false
   },
   "outputs": [],
   "source": [
    "Kron_nRadiusForFlux = algMetadata.get(\"ext_photometryKron_KronFlux_nRadiusForFlux\")\n",
    "\n",
    "with disp2.Buffering():\n",
    "    for s in sources[good]:\n",
    "        shape = s.getShape().clone()\n",
    "        rDet = shape.getDeterminantRadius()\n",
    "\n",
    "        shape.scale(s[\"ext_photometryKron_KronFlux_radius\"]/rDet)\n",
    "        disp2.dot(shape, *s.getCentroid(), ctype=afwDisplay.RED)\n",
    "\n",
    "        shape.scale(Kron_nRadiusForFlux)\n",
    "        disp2.dot(shape, *s.getCentroid(), ctype=afwDisplay.CYAN)"
   ]
  }
 ],
 "metadata": {
  "kernelspec": {
   "display_name": "Python 2",
   "language": "python",
   "name": "python2"
  },
  "language_info": {
   "codemirror_mode": {
    "name": "ipython",
    "version": 2
   },
   "file_extension": ".py",
   "mimetype": "text/x-python",
   "name": "python",
   "nbconvert_exporter": "python",
   "pygments_lexer": "ipython2",
   "version": "2.7.11"
  }
 },
 "nbformat": 4,
 "nbformat_minor": 0
}
