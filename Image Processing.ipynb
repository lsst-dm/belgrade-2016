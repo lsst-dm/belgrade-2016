{
 "cells": [
  {
   "cell_type": "code",
   "execution_count": null,
   "metadata": {
    "collapsed": false
   },
   "outputs": [],
   "source": [
    "import numpy as np\n",
    "\n",
    "%matplotlib inline\n",
    "import matplotlib.pyplot as plt"
   ]
  },
  {
   "cell_type": "code",
   "execution_count": null,
   "metadata": {
    "collapsed": true
   },
   "outputs": [],
   "source": [
    "from lsst.daf.butlerUtils import ExposureIdInfo\n",
    "\n",
    "import lsst.afw.display            as afwDisplay\n",
    "import lsst.daf.base               as dafBase\n",
    "\n",
    "import lsst.afw.image              as afwImage\n",
    "import lsst.afw.geom               as afwGeom\n",
    "import lsst.afw.table              as afwTable\n",
    "\n",
    "import lsst.meas.algorithms        as measAlg"
   ]
  },
  {
   "cell_type": "markdown",
   "metadata": {},
   "source": [
    "#### Load the high-level \"tasks\" that process the pixels"
   ]
  },
  {
   "cell_type": "code",
   "execution_count": null,
   "metadata": {
    "collapsed": true
   },
   "outputs": [],
   "source": [
    "from lsst.pipe.tasks.characterizeImage import CharacterizeImageTask\n",
    "from lsst.meas.algorithms.detection    import SourceDetectionTask\n",
    "from lsst.meas.deblender               import SourceDeblendTask\n",
    "from lsst.meas.base                    import SingleFrameMeasurementTask"
   ]
  },
  {
   "cell_type": "markdown",
   "metadata": {},
   "source": [
    "#### Setup the displays (by default an interface to ds9)\n",
    "(the _callbacks stuff is working around a bug)"
   ]
  },
  {
   "cell_type": "code",
   "execution_count": null,
   "metadata": {
    "collapsed": true
   },
   "outputs": [],
   "source": [
    "disp  = afwDisplay.Display(1);  disp.callbacks  = disp._callbacks\n",
    "disp2 = afwDisplay.Display(2);  disp2.callbacks = disp2._callbacks"
   ]
  },
  {
   "cell_type": "markdown",
   "metadata": {},
   "source": [
    "## Create the tasks"
   ]
  },
  {
   "cell_type": "code",
   "execution_count": null,
   "metadata": {
    "collapsed": false
   },
   "outputs": [],
   "source": [
    "schema = afwTable.SourceTable.makeMinimalSchema()\n",
    "algMetadata = dafBase.PropertyList()\n",
    "\n",
    "config = CharacterizeImageTask.ConfigClass()\n",
    "config.psfIterations = 1\n",
    "charImageTask =         CharacterizeImageTask(None, config=config)\n",
    "\n",
    "sourceDetectionTask =   SourceDetectionTask(schema=schema)\n",
    "\n",
    "sourceDeblendTask =     SourceDeblendTask(schema=schema)\n",
    "\n",
    "if False:\n",
    "    sourceMeasurementTask = SingleFrameMeasurementTask(schema=schema,\n",
    "                                                       algMetadata=algMetadata)\n",
    "else:\n",
    "    config = SingleFrameMeasurementTask.ConfigClass()\n",
    "    config.doApplyApCorr = 'yes'\n",
    "    config.slots.apFlux = 'base_CircularApertureFlux_12_0'\n",
    "    sourceMeasurementTask = SingleFrameMeasurementTask(schema=schema, config=config,\n",
    "                                                       algMetadata=algMetadata)"
   ]
  },
  {
   "cell_type": "markdown",
   "metadata": {},
   "source": [
    "## Time to process some data"
   ]
  },
  {
   "cell_type": "markdown",
   "metadata": {},
   "source": [
    "#### Read the input data"
   ]
  },
  {
   "cell_type": "code",
   "execution_count": null,
   "metadata": {
    "collapsed": true
   },
   "outputs": [],
   "source": [
    "fileName = \"example1.fits\"\n",
    "exposureIdInfo = ExposureIdInfo(0, 5)\n",
    "\n",
    "exposure = afwImage.ExposureF(fileName)"
   ]
  },
  {
   "cell_type": "markdown",
   "metadata": {},
   "source": [
    "#### Create the output table"
   ]
  },
  {
   "cell_type": "code",
   "execution_count": null,
   "metadata": {
    "collapsed": true
   },
   "outputs": [],
   "source": [
    "tab = afwTable.SourceTable.make(schema)"
   ]
  },
  {
   "cell_type": "markdown",
   "metadata": {},
   "source": [
    "#### Process the pixels\n",
    "\n",
    "##### Characterise the exposure (e.g. estimate the PSF)"
   ]
  },
  {
   "cell_type": "code",
   "execution_count": null,
   "metadata": {
    "collapsed": false
   },
   "outputs": [],
   "source": [
    "result = charImageTask.characterize(exposure, exposureIdInfo)"
   ]
  },
  {
   "cell_type": "markdown",
   "metadata": {},
   "source": [
    "##### Detect objects (`sources')"
   ]
  },
  {
   "cell_type": "code",
   "execution_count": null,
   "metadata": {
    "collapsed": false
   },
   "outputs": [],
   "source": [
    "result = sourceDetectionTask.run(tab, exposure)\n",
    "sources = result.sources"
   ]
  },
  {
   "cell_type": "markdown",
   "metadata": {},
   "source": [
    "##### Deblend overlapping objects"
   ]
  },
  {
   "cell_type": "code",
   "execution_count": null,
   "metadata": {
    "collapsed": false
   },
   "outputs": [],
   "source": [
    "sourceDeblendTask.run(exposure, sources, exposure.getPsf())"
   ]
  },
  {
   "cell_type": "markdown",
   "metadata": {},
   "source": [
    "##### Measure the objects' properties"
   ]
  },
  {
   "cell_type": "code",
   "execution_count": null,
   "metadata": {
    "collapsed": false
   },
   "outputs": [],
   "source": [
    "sourceMeasurementTask.run(exposure, sources)"
   ]
  },
  {
   "cell_type": "markdown",
   "metadata": {},
   "source": [
    "#### Write the results to a FITS file (if desired)"
   ]
  },
  {
   "cell_type": "code",
   "execution_count": null,
   "metadata": {
    "collapsed": true
   },
   "outputs": [],
   "source": [
    "fitsTable = \"outputTable.fits\"\n",
    "sources.writeFits(fitsTable)\n",
    "\n",
    "exposure.writeFits(\"example1-out.fits\")"
   ]
  },
  {
   "cell_type": "markdown",
   "metadata": {},
   "source": [
    "## OK, we've finished the image processing."
   ]
  },
  {
   "cell_type": "markdown",
   "metadata": {},
   "source": [
    "We have our list of sources, but it's not currently continuous in memory"
   ]
  },
  {
   "cell_type": "code",
   "execution_count": null,
   "metadata": {
    "collapsed": false
   },
   "outputs": [],
   "source": [
    "try:\n",
    "    sources.get(\"id\")\n",
    "except Exception as e:\n",
    "    print e"
   ]
  },
  {
   "cell_type": "markdown",
   "metadata": {},
   "source": [
    "We can fix this with a deep copy"
   ]
  },
  {
   "cell_type": "code",
   "execution_count": null,
   "metadata": {
    "collapsed": false
   },
   "outputs": [],
   "source": [
    "sources = sources.copy(True)"
   ]
  },
  {
   "cell_type": "raw",
   "metadata": {},
   "source": [
    "An alternative would have been to read the data back from disk"
   ]
  },
  {
   "cell_type": "code",
   "execution_count": null,
   "metadata": {
    "collapsed": false
   },
   "outputs": [],
   "source": [
    "if False:\n",
    "    sources = afwTable.SourceCatalog.readFits(fitsTable)"
   ]
  },
  {
   "cell_type": "markdown",
   "metadata": {},
   "source": [
    "## Look at the results"
   ]
  },
  {
   "cell_type": "code",
   "execution_count": null,
   "metadata": {
    "collapsed": true
   },
   "outputs": [],
   "source": [
    "import lsst.afw.display.utils as afwDisplayUtils\n",
    "import lsst.afw.image.utils as afwImageUtils"
   ]
  },
  {
   "cell_type": "markdown",
   "metadata": {},
   "source": [
    "Define a boolean array that tells us which objects are 'good'; in this case:\n",
    " - No saturated pixels near their centres\n",
    " - terminal objects that haven't been further deblended"
   ]
  },
  {
   "cell_type": "code",
   "execution_count": null,
   "metadata": {
    "collapsed": true
   },
   "outputs": [],
   "source": [
    "good = np.logical_and.reduce([sources.get('base_PixelFlags_flag_saturatedCenter') == 0,\n",
    "                              sources.get(\"deblend_nChild\") == 0,\n",
    "                              ])"
   ]
  },
  {
   "cell_type": "markdown",
   "metadata": {},
   "source": [
    "#### Look at how well the aperture photometry agrees with the PSF measurements"
   ]
  },
  {
   "cell_type": "code",
   "execution_count": null,
   "metadata": {
    "collapsed": false
   },
   "outputs": [],
   "source": [
    "with afwImageUtils.CalibNoThrow():\n",
    "    if False:\n",
    "        apMag = exposure.getCalib().getMagnitude(sources[\"base_CircularApertureFlux_12_0_flux\"])\n",
    "    else:\n",
    "        apMag = exposure.getCalib().getMagnitude(sources.getApFlux())\n",
    "\n",
    "    psfMag = exposure.getCalib().getMagnitude(sources.getPsfFlux())\n",
    "\n",
    "plt.plot(apMag[good], (psfMag - apMag)[good], 'o')\n",
    "\n",
    "plt.axhline(0.0, ls=':', color='black')\n",
    "plt.xlim(14, 24.5)\n",
    "plt.ylim(-0.2, 0.8)\n",
    "\n",
    "plt.xlabel(\"apMag\")\n",
    "plt.ylabel(\"psfMag - apMag\")\n",
    "\n",
    "plt.show()"
   ]
  },
  {
   "cell_type": "markdown",
   "metadata": {},
   "source": [
    "This doesn't look like modern CCD data as there's no brighter-fatter effect.  That's because we corrected it at the pixel level as part of the instrumental signature effect."
   ]
  },
  {
   "cell_type": "code",
   "execution_count": null,
   "metadata": {
    "collapsed": false
   },
   "outputs": [],
   "source": [
    "if True:\n",
    "    disp2.mtv(exposure, title='post calib')\n",
    "else:\n",
    "    disp2.erase()"
   ]
  },
  {
   "cell_type": "markdown",
   "metadata": {},
   "source": [
    "#### Show something about the measurements"
   ]
  },
  {
   "cell_type": "code",
   "execution_count": null,
   "metadata": {
    "collapsed": false
   },
   "outputs": [],
   "source": [
    "with disp2.Buffering():\n",
    "    for s in sources[good]:\n",
    "        disp2.dot('+', *s.getCentroid(),\n",
    "                    ctype=afwDisplay.CYAN if s.get(\"flags_negative\") else afwDisplay.GREEN)"
   ]
  },
  {
   "cell_type": "code",
   "execution_count": null,
   "metadata": {
    "collapsed": true
   },
   "outputs": [],
   "source": [
    "if False:\n",
    "    radii = algMetadata.get(\"base_CircularApertureFlux_radii\")\n",
    "\n",
    "    with disp2.Buffering():\n",
    "        for s in sources[good]:\n",
    "            for radius in radii:\n",
    "                disp2.dot('o', *s.getCentroid(), size=radius, ctype=afwDisplay.YELLOW)"
   ]
  }
 ],
 "metadata": {
  "kernelspec": {
   "display_name": "Python 2",
   "language": "python",
   "name": "python2"
  },
  "language_info": {
   "codemirror_mode": {
    "name": "ipython",
    "version": 2
   },
   "file_extension": ".py",
   "mimetype": "text/x-python",
   "name": "python",
   "nbconvert_exporter": "python",
   "pygments_lexer": "ipython2",
   "version": "2.7.11"
  }
 },
 "nbformat": 4,
 "nbformat_minor": 0
}
