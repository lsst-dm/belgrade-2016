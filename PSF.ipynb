{
 "cells": [
  {
   "cell_type": "code",
   "execution_count": null,
   "metadata": {
    "collapsed": false
   },
   "outputs": [],
   "source": [
    "import numpy as np\n",
    "\n",
    "%matplotlib inline\n",
    "import matplotlib.pyplot as plt"
   ]
  },
  {
   "cell_type": "code",
   "execution_count": null,
   "metadata": {
    "collapsed": true
   },
   "outputs": [],
   "source": [
    "from lsst.daf.butlerUtils import ExposureIdInfo\n",
    "\n",
    "import lsst.afw.display            as afwDisplay\n",
    "import lsst.afw.image              as afwImage\n",
    "import lsst.afw.geom               as afwGeom\n",
    "import lsst.afw.table              as afwTable\n",
    "\n",
    "import lsst.meas.algorithms        as measAlg"
   ]
  },
  {
   "cell_type": "markdown",
   "metadata": {},
   "source": [
    "#### Load the high-level \"tasks\" that process the pixels"
   ]
  },
  {
   "cell_type": "code",
   "execution_count": null,
   "metadata": {
    "collapsed": true
   },
   "outputs": [],
   "source": [
    "from lsst.pipe.tasks.characterizeImage import CharacterizeImageTask\n",
    "from lsst.pipe.tasks.calibrate         import CalibrateTask\n",
    "from lsst.meas.algorithms.detection    import SourceDetectionTask\n",
    "from lsst.meas.deblender               import SourceDeblendTask\n",
    "from lsst.meas.base                    import SingleFrameMeasurementTask\n",
    "\n",
    "import lsst.afw.display.utils as afwDisplayUtils\n",
    "import lsst.afw.image.utils as afwImageUtils"
   ]
  },
  {
   "cell_type": "markdown",
   "metadata": {},
   "source": [
    "#### Load a version of psfex that implements our Psf object"
   ]
  },
  {
   "cell_type": "code",
   "execution_count": null,
   "metadata": {
    "collapsed": true
   },
   "outputs": [],
   "source": [
    "import lsst.meas.extensions.psfex.psfexPsfDeterminer"
   ]
  },
  {
   "cell_type": "markdown",
   "metadata": {},
   "source": [
    "#### Setup the displays (by default an interface to ds9)\n",
    "(the _callbacks stuff is working around a bug)"
   ]
  },
  {
   "cell_type": "code",
   "execution_count": null,
   "metadata": {
    "collapsed": true
   },
   "outputs": [],
   "source": [
    "disp  = afwDisplay.Display(1);  disp.callbacks  = disp._callbacks\n",
    "disp2 = afwDisplay.Display(2);  disp2.callbacks = disp2._callbacks"
   ]
  },
  {
   "cell_type": "markdown",
   "metadata": {},
   "source": [
    "## Create the tasks"
   ]
  },
  {
   "cell_type": "code",
   "execution_count": null,
   "metadata": {
    "collapsed": false
   },
   "outputs": [],
   "source": [
    "schema = afwTable.SourceTable.makeMinimalSchema()\n",
    "algMetadata = dafBase.PropertyList()\n",
    "\n",
    "config = CharacterizeImageTask.ConfigClass()\n",
    "config.psfIterations = 1\n",
    "if True:\n",
    "    config.measurePsf.psfDeterminer.name = \"pca\"   # the default\n",
    "else:\n",
    "    config.measurePsf.psfDeterminer.name = \"psfex\"\n",
    "    \n",
    "charImageTask =         CharacterizeImageTask(None, config=config)\n",
    "\n",
    "config = SourceDetectionTask.ConfigClass()\n",
    "sourceDetectionTask =   SourceDetectionTask(schema=schema, config=config)\n",
    "\n",
    "sourceDeblendTask =     SourceDeblendTask(schema=schema)\n",
    "\n",
    "config = SingleFrameMeasurementTask.ConfigClass()\n",
    "config.doApplyApCorr = 'yes'\n",
    "config.slots.apFlux = 'base_CircularApertureFlux_12_0'\n",
    "sourceMeasurementTask = SingleFrameMeasurementTask(schema=schema, config=config,\n",
    "                                                   algMetadata=algMetadata)"
   ]
  },
  {
   "cell_type": "markdown",
   "metadata": {},
   "source": [
    "## Process the data"
   ]
  },
  {
   "cell_type": "code",
   "execution_count": null,
   "metadata": {
    "collapsed": false
   },
   "outputs": [],
   "source": [
    "fileName = \"example1.fits\"\n",
    "exposureIdInfo = ExposureIdInfo(0, 5)\n",
    "\n",
    "exposure = afwImage.ExposureF(fileName)\n",
    "\n",
    "tab = afwTable.SourceTable.make(schema)\n",
    "\n",
    "result = charImageTask.characterize(exposure, exposureIdInfo)\n",
    "psfCellSet = result.psfCellSet     # we'll look at this data structure later\n",
    "\n",
    "result = sourceDetectionTask.run(tab, exposure)\n",
    "sources = result.sources\n",
    "\n",
    "sourceDeblendTask.run(exposure, sources, exposure.getPsf())\n",
    "\n",
    "sourceMeasurementTask.run(exposure, sources)\n",
    "\n",
    "fitsTable = \"outputTable.fits\"\n",
    "sources.writeFits(fitsTable)\n",
    "\n",
    "exposure.writeFits(\"example1-out.fits\")"
   ]
  },
  {
   "cell_type": "markdown",
   "metadata": {},
   "source": [
    "Define a boolean array that tells us which objects are 'good'; in this case:\n",
    " - No saturated pixels near their centres\n",
    " - terminal objects that haven't been further deblended"
   ]
  },
  {
   "cell_type": "code",
   "execution_count": null,
   "metadata": {
    "collapsed": false
   },
   "outputs": [],
   "source": [
    "sources = sources.copy(True)\n",
    "\n",
    "good = np.logical_and.reduce([sources.get('base_PixelFlags_flag_saturatedCenter') == 0,\n",
    "                              sources.get(\"deblend_nChild\") == 0,\n",
    "                              ])"
   ]
  },
  {
   "cell_type": "markdown",
   "metadata": {},
   "source": [
    "#### Look at how well the aperture photometry agrees with the PSF measurements"
   ]
  },
  {
   "cell_type": "code",
   "execution_count": null,
   "metadata": {
    "collapsed": false
   },
   "outputs": [],
   "source": [
    "with afwImageUtils.CalibNoThrow():\n",
    "    apMag = exposure.getCalib().getMagnitude(sources.getApFlux())\n",
    "    psfMag = exposure.getCalib().getMagnitude(sources.getPsfFlux())\n",
    "\n",
    "plt.plot(apMag[good], (psfMag - apMag)[good], 'o')\n",
    "\n",
    "plt.axhline(0.0, ls=':', color='black')\n",
    "plt.xlim(14, 24.5)\n",
    "plt.ylim(-0.2, 0.8)\n",
    "\n",
    "plt.xlabel(\"apMag\")\n",
    "plt.ylabel(\"psfMag - apMag\")\n",
    "\n",
    "plt.show()"
   ]
  },
  {
   "cell_type": "markdown",
   "metadata": {},
   "source": [
    "#### Show the PSF candidates on the image"
   ]
  },
  {
   "cell_type": "code",
   "execution_count": null,
   "metadata": {
    "collapsed": false
   },
   "outputs": [],
   "source": [
    "if True:\n",
    "    disp2.mtv(exposure)\n",
    "else:\n",
    "    disp2.erase()\n",
    "\n",
    "if psfCellSet:\n",
    "    with disp2.Buffering():\n",
    "        for cell in psfCellSet.getCellList():\n",
    "            afwDisplayUtils.drawBBox(cell.getBBox(), display=disp2, \n",
    "                                     borderWidth=0.5, ctype=afwDisplay.CYAN)\n",
    "\n",
    "            for cand in cell:\n",
    "                disp2.dot(\"*\", cand.getXCenter(), cand.getYCenter(),\n",
    "                          ctype=afwDisplay.GREEN if cand.GOOD else afwDisplay.RED)"
   ]
  },
  {
   "cell_type": "markdown",
   "metadata": {},
   "source": [
    "##### Look at the residuals from the PSF modelling"
   ]
  },
  {
   "cell_type": "code",
   "execution_count": null,
   "metadata": {
    "collapsed": false
   },
   "outputs": [],
   "source": [
    "residuals = exposure.getMaskedImage().getImage().clone()\n",
    "psf = exposure.getPsf()\n",
    "\n",
    "with disp.Buffering():\n",
    "    for s in sources[good]:\n",
    "        psfImage = psf.computeImage(s.getCentroid()).convertF()\n",
    "        psfImage *= s.getPsfFlux()/np.sum(psfImage.getArray())\n",
    "            \n",
    "        try:\n",
    "            residuals[psfImage.getBBox()] -= psfImage\n",
    "        except:\n",
    "            pass\n",
    "            \n",
    "disp.mtv(residuals)\n",
    "\n",
    "with disp.Buffering():\n",
    "    for s in sources[good]:\n",
    "        disp.dot(\"o\", *s.getCentroid(), size=20) "
   ]
  }
 ],
 "metadata": {
  "kernelspec": {
   "display_name": "Python 2",
   "language": "python",
   "name": "python2"
  },
  "language_info": {
   "codemirror_mode": {
    "name": "ipython",
    "version": 2
   },
   "file_extension": ".py",
   "mimetype": "text/x-python",
   "name": "python",
   "nbconvert_exporter": "python",
   "pygments_lexer": "ipython2",
   "version": "2.7.11"
  }
 },
 "nbformat": 4,
 "nbformat_minor": 0
}
